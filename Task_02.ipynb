{
  "nbformat": 4,
  "nbformat_minor": 0,
  "metadata": {
    "colab": {
      "provenance": [],
      "authorship_tag": "ABX9TyMxt2ub64qZssEJ2wKdBzGo",
      "include_colab_link": true
    },
    "kernelspec": {
      "name": "python3",
      "display_name": "Python 3"
    },
    "language_info": {
      "name": "python"
    }
  },
  "cells": [
    {
      "cell_type": "markdown",
      "metadata": {
        "id": "view-in-github",
        "colab_type": "text"
      },
      "source": [
        "<a href=\"https://colab.research.google.com/github/Wuuuuu05/Task-02/blob/main/Task_02.ipynb\" target=\"_parent\"><img src=\"https://colab.research.google.com/assets/colab-badge.svg\" alt=\"Open In Colab\"/></a>"
      ]
    },
    {
      "cell_type": "code",
      "execution_count": 14,
      "metadata": {
        "colab": {
          "base_uri": "https://localhost:8080/"
        },
        "id": "7Ocq8qNAIbu3",
        "outputId": "1b0fdabe-3579-464e-e09d-cf20fae8ea2c"
      },
      "outputs": [
        {
          "output_type": "stream",
          "name": "stdout",
          "text": [
            "     0   1   2   3\n",
            "0   29  13  35  21\n",
            "1   39  24  38  13\n",
            "2   29  28  15  30\n",
            "3   10  19  16  31\n",
            "4   15  19  37  30\n",
            "5   32  31  21  20\n",
            "6   30  27  18  11\n",
            "7   17  30  15  31\n",
            "8   20  28  13  39\n",
            "9   20  15  22  25\n",
            "10  11  19  25  16\n",
            "11  39  11  28  26\n",
            "12  13  16  26  32\n",
            "13  26  29  20  20\n",
            "14  10  21  13  11\n",
            "     0   1   2   3\n",
            "0   29  13  35  21\n",
            "1   39  24  38  13\n",
            "2   29  28  15  30\n",
            "5   32  31  21  20\n",
            "6   30  27  18  11\n",
            "11  39  11  28  26\n",
            "13  26  29  20  20\n",
            "     0   1   2   3\n",
            "1   39  24  38  13\n",
            "2   29  28  15  30\n",
            "5   32  31  21  20\n",
            "6   30  27  18  11\n",
            "13  26  29  20  20\n",
            "     0   1   2   3\n",
            "0   29  13  35  21\n",
            "2   29  28  15  30\n",
            "3   10  19  16  31\n",
            "4   15  19  37  30\n",
            "5   32  31  21  20\n",
            "7   17  30  15  31\n",
            "8   20  28  13  39\n",
            "9   20  15  22  25\n",
            "10  11  19  25  16\n",
            "12  13  16  26  32\n",
            "13  26  29  20  20\n",
            "14  10  21  13  11\n",
            "     0   1   2   3\n",
            "1   39  24  38  13\n",
            "2   29  28  15  30\n",
            "4   15  19  37  30\n",
            "5   32  31  21  20\n",
            "11  39  11  28  26\n",
            "{'Mon': 782, 'Sun': 376}\n"
          ]
        }
      ],
      "source": [
        "import pandas as pd\n",
        "import numpy as np\n",
        "\n",
        "df = pd.DataFrame(np.random.randint(10, 40, 60).reshape(-1, 4))\n",
        "print(df)\n",
        "\n",
        "# - 1. filtered by first column > 20?\n",
        "df_filtered1 = df[df.iloc[:,0] > 20]\n",
        "print(df_filtered1)\n",
        "\n",
        "# - 2. filtered by first column + second column > 50\n",
        "df_filtered2 = df[(df.iloc[:,0] + df.iloc[:,1]) > 50]\n",
        "print(df_filtered2)\n",
        "\n",
        "# - 3. filtered by first column < 30 or second column > 30\n",
        "df_filtered3 = df[(df.iloc[:,0] < 30) | (df.iloc[:,1] > 30)]\n",
        "print(df_filtered3)\n",
        "\n",
        "# - 4. filtered by total sum of row > 100\n",
        "df_filtered4 = df[df.sum(axis=1) > 100]\n",
        "print(df_filtered4)\n"
      ]
    }
  ]
}