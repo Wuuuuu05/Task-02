{
  "nbformat": 4,
  "nbformat_minor": 0,
  "metadata": {
    "colab": {
      "provenance": [],
      "authorship_tag": "ABX9TyN/MQ5/LdsgVruKCIbuXGf1",
      "include_colab_link": true
    },
    "kernelspec": {
      "name": "python3",
      "display_name": "Python 3"
    },
    "language_info": {
      "name": "python"
    }
  },
  "cells": [
    {
      "cell_type": "markdown",
      "metadata": {
        "id": "view-in-github",
        "colab_type": "text"
      },
      "source": [
        "<a href=\"https://colab.research.google.com/github/Wuuuuu05/Task-02/blob/main/Task_02.ipynb\" target=\"_parent\"><img src=\"https://colab.research.google.com/assets/colab-badge.svg\" alt=\"Open In Colab\"/></a>"
      ]
    },
    {
      "cell_type": "code",
      "execution_count": 15,
      "metadata": {
        "colab": {
          "base_uri": "https://localhost:8080/"
        },
        "id": "7Ocq8qNAIbu3",
        "outputId": "4792b39b-2940-49fe-e097-24e487fa36dc"
      },
      "outputs": [
        {
          "output_type": "stream",
          "name": "stdout",
          "text": [
            "     0   1   2   3\n",
            "0   13  34  13  29\n",
            "1   13  14  24  29\n",
            "2   38  28  16  23\n",
            "3   14  37  28  36\n",
            "4   33  39  36  16\n",
            "5   39  31  25  20\n",
            "6   33  21  36  11\n",
            "7   32  28  33  22\n",
            "8   34  11  13  38\n",
            "9   23  12  37  29\n",
            "10  38  33  19  21\n",
            "11  19  29  21  23\n",
            "12  22  24  20  13\n",
            "13  10  21  27  29\n",
            "14  13  29  31  32\n",
            "     0   1   2   3\n",
            "2   38  28  16  23\n",
            "4   33  39  36  16\n",
            "5   39  31  25  20\n",
            "6   33  21  36  11\n",
            "7   32  28  33  22\n",
            "8   34  11  13  38\n",
            "9   23  12  37  29\n",
            "10  38  33  19  21\n",
            "12  22  24  20  13\n",
            "     0   1   2   3\n",
            "2   38  28  16  23\n",
            "3   14  37  28  36\n",
            "4   33  39  36  16\n",
            "5   39  31  25  20\n",
            "6   33  21  36  11\n",
            "7   32  28  33  22\n",
            "10  38  33  19  21\n",
            "     0   1   2   3\n",
            "0   13  34  13  29\n",
            "1   13  14  24  29\n",
            "3   14  37  28  36\n",
            "4   33  39  36  16\n",
            "5   39  31  25  20\n",
            "9   23  12  37  29\n",
            "10  38  33  19  21\n",
            "11  19  29  21  23\n",
            "12  22  24  20  13\n",
            "13  10  21  27  29\n",
            "14  13  29  31  32\n",
            "     0   1   2   3\n",
            "2   38  28  16  23\n",
            "3   14  37  28  36\n",
            "4   33  39  36  16\n",
            "5   39  31  25  20\n",
            "6   33  21  36  11\n",
            "7   32  28  33  22\n",
            "9   23  12  37  29\n",
            "10  38  33  19  21\n",
            "14  13  29  31  32\n",
            "{'Mon': 782, 'Sun': 376}\n"
          ]
        }
      ],
      "source": [
        "import pandas as pd\n",
        "import numpy as np\n",
        "\n",
        "df = pd.DataFrame(np.random.randint(10, 40, 60).reshape(-1, 4))\n",
        "print(df)\n",
        "\n",
        "# - 1. filtered by first column > 20?\n",
        "df_filtered1 = df[df.iloc[:,0] > 20]\n",
        "print(df_filtered1)\n",
        "\n",
        "# - 2. filtered by first column + second column > 50\n",
        "df_filtered2 = df[(df.iloc[:,0] + df.iloc[:,1]) > 50]\n",
        "print(df_filtered2)\n",
        "\n",
        "# - 3. filtered by first column < 30 or second column > 30\n",
        "df_filtered3 = df[(df.iloc[:,0] < 30) | (df.iloc[:,1] > 30)]\n",
        "print(df_filtered3)\n",
        "\n",
        "# - 4. filtered by total sum of row > 100\n",
        "df_filtered4 = df[df.sum(axis=1) > 100]\n",
        "print(df_filtered4)\n",
        "\n",
        "# 利用 Pandas 計算給定的資料中不同 weekday 的 visitor 總和為何\n",
        "d = [\n",
        "    {'city': 'Austin', 'visitor': 139, 'weekday': 'Sun'},\n",
        "    {'city': 'Dallas', 'visitor': 237, 'weekday': 'Sun'},\n",
        "    {'city': 'Austin', 'visitor': 326, 'weekday': 'Mon'},\n",
        "    {'city': 'Dallas', 'visitor': 456, 'weekday': 'Mon'}\n",
        "]\n",
        "df1 = pd.DataFrame(d)\n",
        "visitors_sum = df1.groupby('weekday')['visitor'].sum()\n",
        "output = visitors_sum.to_dict()\n",
        "print(output)"
      ]
    }
  ]
}